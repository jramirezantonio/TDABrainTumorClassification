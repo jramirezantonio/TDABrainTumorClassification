{
 "cells": [
  {
   "cell_type": "code",
   "execution_count": 1,
   "id": "0004e49e",
   "metadata": {},
   "outputs": [],
   "source": [
    "from sklearn.datasets import load_iris\n",
    "from sklearn.neural_network import MLPClassifier\n",
    "from sklearn.model_selection import train_test_split\n",
    "from sklearn.preprocessing import StandardScaler\n",
    "import pandas as pd\n",
    "import numpy as np\n",
    "#from sklearn.metrics import plot_confusion_matrix\n",
    "import matplotlib.pyplot as plt \n",
    "import random"
   ]
  },
  {
   "cell_type": "code",
   "execution_count": 2,
   "id": "0f6b4e82",
   "metadata": {},
   "outputs": [],
   "source": [
    "rand_index_1 = [95, 625, 432, 577, 228, 596, 499, 707, 215, 28, 114, 63, 665, 717, 321, 137, 505, 527, 534, 243, 340, 616, 640, 319, 165, 295, 77, 29, 290, 613, 249, 315, 659, 89, 344, 343, 284, 311, 239, 680, 153, 502, 558, 631, 445, 453, 342, 305, 496, 90, 458, 67, 635, 188, 442, 606, 705, 256, 580, 447, 537, 636, 667, 259, 19, 575, 492, 50, 348, 357, 518, 466, 724, 431, 30, 110, 301, 38, 86, 253, 251, 548, 437, 43, 200, 6, 512, 4, 557, 181, 124, 463, 614, 508, 470, 704, 563, 171, 236, 201, 467, 218, 702, 654, 82, 172, 696, 531, 643, 138, 233, 535, 677, 374, 644, 238, 568, 379, 184, 480, 703, 653, 250, 423, 380, 623, 58, 194, 163, 675, 578, 400, 353, 545, 373, 371, 258, 17, 170, 83, 298, 26, 76, 175, 554, 362, 307, 562, 615, 479, 1560, 1151, 1536, 1450, 1285, 1286, 1387, 1469, 1150, 982, 1487, 829, 1011, 1289, 1516, 806, 1222, 832, 1522, 1331, 1564, 1162, 957, 1562, 1048, 985, 787, 1282, 954, 1237, 1500, 1193, 1245, 790, 1443, 803, 1521, 1183, 1232, 786, 943, 1258, 1498, 779, 1166, 1407, 846, 1273, 1178, 833, 934, 1124, 802, 1467, 990, 1154, 1328, 1457, 1096, 1464, 894, 890, 808, 1384, 935, 1533, 1148, 1381, 1421, 1113, 942, 950, 1119, 1550, 1515, 1082, 754, 876, 970, 1483, 1561, 772, 1418, 864, 895, 1122, 1207, 1305, 1354, 1356, 1083, 1168, 966, 1453, 1017, 1009, 1221, 1177, 1094, 1216, 838, 1427, 1340, 775, 1260, 1034, 1520, 1482, 1262, 1027, 993, 1261, 1204, 1081, 1456, 958, 1200, 791, 1016, 1209, 1313, 1028, 896, 1234, 1419, 994, 845, 1312, 974, 1132, 853, 889, 1326, 1187, 1534, 989, 861, 1455, 1292, 807, 1179, 1007, 944, 907, 1050, 1012, 1074, 1135, 1401, 1361, 1587, 1761, 1708, 1690, 1637, 1861, 1752, 1866, 1931, 1744, 1781, 1593, 1654, 1689, 1905, 1583, 1960, 1702, 1849, 1841, 1878, 1670, 1899, 1835, 1745, 1599, 1867, 1943, 1622, 1779, 1634, 1898, 1803, 1582, 1638, 1798, 1852, 1768, 1697, 1698, 1615, 1814, 1773, 1706, 1829, 1658, 1586, 1801, 1581, 1681, 1659, 1661, 1758, 1914, 1948, 1967, 1722, 1785, 1907, 1846, 1906, 1876, 1751, 1848, 1719, 1635, 1726, 1944, 1963, 1897, 1725, 1856, 1923, 1729, 1802, 1629, 1925, 1675, 1621, 1922, 1928, 1625, 1810, 1691, 1804, 1832, 1933, 1778, 1584, 1845, 1872, 1811, 1945, 1859, 1920, 1776, 1683, 1956, 1942, 1650, 1632, 1760, 1917, 1594, 1636, 1641, 1787, 1667, 1728, 1750, 1600, 1774, 1735, 1743, 1837, 1748, 1730, 1953, 1687, 1610, 1630, 1716, 1869, 1964, 1775, 1873, 1799, 1790, 1604, 1736, 1723, 1868, 1910, 1855, 1877, 1673, 1952, 1893, 1680, 1901, 1957, 1699, 1812, 1911, 1797, 1644, 1601, 1950, 1662, 1765, 2273, 2094, 2162, 2001, 2520, 2218, 2722, 1981, 2555, 2029, 2317, 2030, 2592, 1975, 2027, 2546, 2223, 2128, 2532, 2068, 2244, 2647, 2005, 2473, 2526, 2726, 2195, 2586, 2591, 2641, 1972, 2270, 2303, 2486, 2318, 2645, 2658, 2675, 2043, 2616, 2588, 2308, 2704, 2561, 2559, 2205, 2301, 2319, 2434, 2098, 2312, 2219, 2419, 1991, 2564, 2020, 2608, 2176, 2481, 2557, 1971, 2607, 2584, 2572, 2479, 2049, 2676, 2246, 2212, 2091, 2225, 2139, 2558, 2464, 2137, 2285, 2078, 2698, 2683, 2305, 2134, 2055, 1999, 2720, 2019, 2427, 2087, 2160, 2353, 2130, 2403, 2214, 2628, 2037, 2414, 2119, 2601, 2459, 2598, 2423, 2000, 2625, 2154, 2504, 2358, 2178, 2377, 2183, 2191, 2311, 2469, 2477, 2316, 2385, 2209, 2372, 2082, 2261, 1980, 2342, 2577, 2010, 2275, 2562, 2365, 2511, 2157, 2106, 2259, 2540, 2379, 2331, 2715, 2420, 2136, 2614, 2537, 2213, 2252, 2102, 2452, 2028, 2280, 2696, 2563, 1992, 2096, 2254, 2525, 2230]\n",
    "test_rand_index_1 = [538, 222, 558, 337, 344, 17, 564, 153, 216, 499, 36, 329, 67, 347, 322, 384, 427, 590, 74, 101, 529, 192, 122, 532, 200, 585, 420, 109, 480, 152, 766, 943, 857, 1098, 760, 1165, 1121, 1201, 651, 637, 1034, 923, 1243, 1170, 1125, 1268, 743, 682, 1079, 933, 655, 623, 771, 642, 1146, 1242, 860, 873, 871, 1225, 1502, 1390, 1354, 1328, 1358, 1326, 1346, 1380, 1417, 1402, 1287, 1359, 1348, 1357, 1405, 1507, 1288, 1472, 1331, 1335, 1489, 1505, 1415, 1363, 1276, 1295, 1325, 1282, 1514, 1452, 1750, 2088, 1619, 1882, 1885, 1636, 1709, 1796, 1889, 1825, 1906, 2035, 1738, 1627, 1833, 2039, 1608, 1677, 1837, 1611, 1655, 1932, 2098, 1867, 1571, 1598, 1806, 1543, 1940, 1533]"
   ]
  },
  {
   "cell_type": "code",
   "execution_count": 3,
   "id": "217d47da",
   "metadata": {},
   "outputs": [],
   "source": [
    "labels = [0 for i in range(0, 754)]\n",
    "labels.extend([1 for i in range(754, 1576)])\n",
    "labels.extend([2 for i in range(1576, 1971)])\n",
    "labels.extend([3 for i in range(1971, 2727)])"
   ]
  },
  {
   "cell_type": "code",
   "execution_count": 4,
   "id": "6c63e199",
   "metadata": {},
   "outputs": [],
   "source": [
    "import os\n",
    "import pickle\n",
    "\n",
    "def list_of_folders():\n",
    "    data_folder_path = \"C:/Users/hafid/OneDrive/Documents/Final Project/brain_mri_LS\" # path to the folder on your computer\n",
    "    folder_dir_list = os.listdir(data_folder_path)\n",
    "    return folder_dir_list"
   ]
  },
  {
   "cell_type": "code",
   "execution_count": 5,
   "id": "0f2310bf",
   "metadata": {},
   "outputs": [],
   "source": [
    "def read_LS_files():\n",
    "    X = []\n",
    "    folder_dir_list = list_of_folders()\n",
    "    for folder in folder_dir_list:\n",
    "        brain_LS_path = \"C:/Users/hafid/OneDrive/Documents/Final Project/brain_mri_LS\"\n",
    "        \n",
    "        dir_list = os.listdir(brain_LS_path + '/' + folder)\n",
    "        for x in dir_list:\n",
    "            with open(brain_LS_path + '/' + folder + '/' + x, 'rb') as handle:\n",
    "                lst = pickle.load(handle)\n",
    "                array = np.asarray(lst)\n",
    "                array = array.flatten()\n",
    "                X.append(array)\n",
    "    return X"
   ]
  },
  {
   "cell_type": "code",
   "execution_count": 6,
   "id": "0a78286f",
   "metadata": {},
   "outputs": [],
   "source": [
    "data = read_LS_files()"
   ]
  },
  {
   "cell_type": "code",
   "execution_count": 7,
   "id": "fa005250",
   "metadata": {},
   "outputs": [
    {
     "data": {
      "text/plain": [
       "2727"
      ]
     },
     "execution_count": 7,
     "metadata": {},
     "output_type": "execute_result"
    }
   ],
   "source": [
    "len(data)"
   ]
  },
  {
   "cell_type": "code",
   "execution_count": 8,
   "id": "f642b819",
   "metadata": {},
   "outputs": [],
   "source": [
    "rand_index_0 = random.sample(range(0, 754), 150)\n",
    "rand_index_1 = random.sample(range(754, 1576), 150)\n",
    "rand_index_2 = random.sample(range(1576, 1971), 150)\n",
    "rand_index_3 = random.sample(range(1971, 2727), 150)\n",
    "rand_index = []\n",
    "rand_index.extend(rand_index_0)\n",
    "rand_index.extend(rand_index_1)\n",
    "rand_index.extend(rand_index_2)\n",
    "rand_index.extend(rand_index_3)\n",
    "new_data = [data[i] for i in rand_index]"
   ]
  },
  {
   "cell_type": "code",
   "execution_count": 9,
   "id": "93392715",
   "metadata": {},
   "outputs": [],
   "source": [
    "for i in sorted(rand_index, reverse=True):\n",
    "    del data[i]"
   ]
  },
  {
   "cell_type": "code",
   "execution_count": 10,
   "id": "be1e5705",
   "metadata": {
    "scrolled": true
   },
   "outputs": [
    {
     "data": {
      "text/plain": [
       "2127"
      ]
     },
     "execution_count": 10,
     "metadata": {},
     "output_type": "execute_result"
    }
   ],
   "source": [
    "len(data)"
   ]
  },
  {
   "cell_type": "code",
   "execution_count": 11,
   "id": "d5aaf089",
   "metadata": {},
   "outputs": [],
   "source": [
    "new_labels = [0 for i in range(0, 150)]\n",
    "new_labels.extend([1 for i in range(150, 300)])\n",
    "new_labels.extend([2 for i in range(300, 450)])\n",
    "new_labels.extend([3 for i in range(450, 600)])"
   ]
  },
  {
   "cell_type": "code",
   "execution_count": 12,
   "id": "f3f5726e",
   "metadata": {},
   "outputs": [
    {
     "name": "stdout",
     "output_type": "stream",
     "text": [
      "600\n"
     ]
    }
   ],
   "source": [
    "print(len(new_data))"
   ]
  },
  {
   "cell_type": "code",
   "execution_count": 13,
   "id": "b9aeaa1c",
   "metadata": {},
   "outputs": [
    {
     "data": {
      "text/plain": [
       "600"
      ]
     },
     "execution_count": 13,
     "metadata": {},
     "output_type": "execute_result"
    }
   ],
   "source": [
    "len(new_labels)"
   ]
  },
  {
   "cell_type": "code",
   "execution_count": 15,
   "id": "74c992e3",
   "metadata": {},
   "outputs": [],
   "source": [
    "test_data_labels = [0 for i in range(0, 30)]\n",
    "test_data_labels.extend([1 for i in range(30, 60)])\n",
    "test_data_labels.extend([2 for i in range(60, 90)])\n",
    "test_data_labels.extend([3 for i in range(90, 120)])"
   ]
  },
  {
   "cell_type": "code",
   "execution_count": 16,
   "id": "cbce8d4f",
   "metadata": {},
   "outputs": [],
   "source": [
    "test_rand_index_0 = random.sample(range(0, 604), 30)\n",
    "test_rand_index_1 = random.sample(range(604, 1276), 30)\n",
    "test_rand_index_2 = random.sample(range(1276, 1521), 30)\n",
    "test_rand_index_3 = random.sample(range(1521, 2127), 30)\n",
    "test_rand_index = []\n",
    "test_rand_index.extend(test_rand_index_0)\n",
    "test_rand_index.extend(test_rand_index_1)\n",
    "test_rand_index.extend(test_rand_index_2)\n",
    "test_rand_index.extend(test_rand_index_3)\n",
    "test_data = [data[i] for i in test_rand_index]"
   ]
  },
  {
   "cell_type": "code",
   "execution_count": 17,
   "id": "43b27377",
   "metadata": {},
   "outputs": [],
   "source": [
    "lengths1 = [len(lst) for lst in new_data]\n",
    "lengths2 = [len(lst) for lst in test_data]\n",
    "max_length = max(max(lengths1), max(lengths2))"
   ]
  },
  {
   "cell_type": "code",
   "execution_count": 18,
   "id": "295b7fb4",
   "metadata": {},
   "outputs": [],
   "source": [
    "for i in range(len(new_data)):\n",
    "    if len(new_data[i]) < max_length:\n",
    "        A = list(new_data[i])\n",
    "        A.extend([0 for j in range(len(new_data[i]), max_length)])\n",
    "        new_data[i] = np.asarray(A)"
   ]
  },
  {
   "cell_type": "code",
   "execution_count": 19,
   "id": "26a72922",
   "metadata": {},
   "outputs": [],
   "source": [
    "for j in range(len(test_data)):\n",
    "    if len(test_data[j]) < max_length:\n",
    "        B = list(test_data[j])\n",
    "        B.extend([0 for k in range(len(test_data[j]), max_length)])\n",
    "        test_data[j] = np.asarray(B)"
   ]
  },
  {
   "cell_type": "code",
   "execution_count": 20,
   "id": "56ef6c4e",
   "metadata": {},
   "outputs": [],
   "source": [
    "sc_X = StandardScaler()\n",
    "X_trainscaled = sc_X.fit_transform(new_data)\n",
    "X_testscaled = sc_X.fit_transform(test_data)"
   ]
  },
  {
   "cell_type": "code",
   "execution_count": 25,
   "id": "2e30a910",
   "metadata": {},
   "outputs": [
    {
     "data": {
      "text/plain": [
       "600"
      ]
     },
     "execution_count": 25,
     "metadata": {},
     "output_type": "execute_result"
    }
   ],
   "source": [
    "len(new_data)"
   ]
  },
  {
   "cell_type": "code",
   "execution_count": 38,
   "id": "db71e394",
   "metadata": {},
   "outputs": [
    {
     "name": "stdout",
     "output_type": "stream",
     "text": [
      "0.7416666666666667\n"
     ]
    }
   ],
   "source": [
    "clf = MLPClassifier(hidden_layer_sizes=(256,256,256,256,256,128,128,128,128,64), learning_rate = 'adaptive', random_state=1).fit(X_trainscaled, new_labels)\n",
    "y_test = test_data_labels\n",
    "y_pred=clf.predict(X_testscaled)\n",
    "print(clf.score(X_testscaled, test_data_labels))"
   ]
  },
  {
   "cell_type": "code",
   "execution_count": null,
   "id": "6c257cef",
   "metadata": {},
   "outputs": [],
   "source": [
    "#with 600 training points, 120 test points, and (256,256,256,256,256,128,128,128,128,64) layers\n",
    "#clf.score = 0.7416666666666667"
   ]
  },
  {
   "cell_type": "code",
   "execution_count": null,
   "id": "08993205",
   "metadata": {},
   "outputs": [],
   "source": [
    "#with 600 training points, 120 test points, and (256,256,256,256,256,128,128,128,64) layers\n",
    "#clf.score = 0.7333333333333333"
   ]
  },
  {
   "cell_type": "code",
   "execution_count": null,
   "id": "1731a65c",
   "metadata": {},
   "outputs": [],
   "source": [
    "#with 600 training points, 120 test points, and (256,256,256,256,128,128,64) layers\n",
    "# and sgd solve, max_iter = 300\n",
    "#clf.score = 0.7333333333333333"
   ]
  },
  {
   "cell_type": "code",
   "execution_count": 59,
   "id": "ccc21ce4",
   "metadata": {},
   "outputs": [
    {
     "data": {
      "text/plain": [
       "600"
      ]
     },
     "execution_count": 59,
     "metadata": {},
     "output_type": "execute_result"
    }
   ],
   "source": [
    "len(rand_index)"
   ]
  },
  {
   "cell_type": "code",
   "execution_count": 60,
   "id": "988c3757",
   "metadata": {},
   "outputs": [
    {
     "data": {
      "text/plain": [
       "120"
      ]
     },
     "execution_count": 60,
     "metadata": {},
     "output_type": "execute_result"
    }
   ],
   "source": [
    "len(test_rand_index)"
   ]
  },
  {
   "cell_type": "code",
   "execution_count": null,
   "id": "021b0c6c",
   "metadata": {},
   "outputs": [],
   "source": [
    "#started ast 1:33 and ended at 1:38\n",
    "#with 600 training points, 120 test points, and (256,256,256,256,128,64,32,16)  layers\n",
    "#0.6833333333333333"
   ]
  },
  {
   "cell_type": "code",
   "execution_count": null,
   "id": "2a5a067a",
   "metadata": {},
   "outputs": [],
   "source": [
    "#started at 12:13\n",
    "#with 600 training points, 120 test points, and (512,420,350,256,190,128,64,32) layers and using logistic\n",
    "#clf.score = 0.25"
   ]
  },
  {
   "cell_type": "code",
   "execution_count": null,
   "id": "e2d36ec1",
   "metadata": {},
   "outputs": [],
   "source": [
    "#started at 11:58 and ended at 12:11\n",
    "#with 600 training points, 120 test points, and (512,420,350,256,190,128,64,32) layers\n",
    "#clf.score = 0.625"
   ]
  },
  {
   "cell_type": "code",
   "execution_count": null,
   "id": "843fb370",
   "metadata": {},
   "outputs": [],
   "source": [
    "#started at 10:20 and took\n",
    "#with 600 training points, 120 test points, and (256,256,256,256,256,256,128,128,64) layers\n",
    "#clf.score = 0.675"
   ]
  },
  {
   "cell_type": "code",
   "execution_count": null,
   "id": "74c8abef",
   "metadata": {},
   "outputs": [],
   "source": [
    "#started at 10:14 and took 5 minutes\n",
    "#with 600 training points, 120 test points, and (256,256,256,256,128,128,128,128,64) layers\n",
    "#clf.score = 0.6916666666666667"
   ]
  },
  {
   "cell_type": "code",
   "execution_count": null,
   "id": "5b0ba26e",
   "metadata": {},
   "outputs": [],
   "source": [
    "#started at 10:06 and took less than 8 minutes\n",
    "#with 600 training points, 120 test points, and (256,256,256,256,128,128,64) layers\n",
    "#clf.score = 0.725 "
   ]
  },
  {
   "cell_type": "code",
   "execution_count": 22,
   "id": "2a484658",
   "metadata": {
    "scrolled": true
   },
   "outputs": [
    {
     "data": {
      "text/plain": [
       "array([3, 1, 3, 0, 0, 0, 3, 0, 1, 0, 0, 3, 3, 1, 0, 0, 3, 3, 3, 0, 0, 2,\n",
       "       3, 1, 0, 1, 0, 3, 0, 3, 3, 3, 1, 3, 2, 1, 3, 3, 2, 3, 3, 3, 3, 2,\n",
       "       2, 3, 2, 2, 3, 2, 3, 1, 1, 3, 3, 1, 1, 3, 2, 3, 2, 2, 2, 2, 2, 1,\n",
       "       2, 2, 2, 2, 2, 2, 2, 2, 1, 2, 2, 2, 3, 2, 2, 2, 2, 2, 2, 2, 2, 2,\n",
       "       2, 2, 3, 2, 3, 3, 2, 3, 2, 3, 3, 3, 3, 3, 3, 3, 3, 3, 3, 0, 3, 3,\n",
       "       3, 3, 3, 2, 3, 3, 3, 3, 3, 3])"
      ]
     },
     "execution_count": 22,
     "metadata": {},
     "output_type": "execute_result"
    }
   ],
   "source": [
    "#started at 9:40 and took less than 10 mins\n",
    "#with 600 training points, 120 test points, and (256,256,128,128,64) layers\n",
    "#clf.score = 0.7083333333333334"
   ]
  },
  {
   "cell_type": "code",
   "execution_count": null,
   "id": "77db1688",
   "metadata": {},
   "outputs": [],
   "source": [
    "#started at 7:16 and took at least 2 hrs\n",
    "#with 1200 training points, 120 test points, and (256,128,64,32) layers\n",
    "#clf.score = 0.5916666666666667"
   ]
  },
  {
   "cell_type": "code",
   "execution_count": 20,
   "id": "6ef6267c",
   "metadata": {},
   "outputs": [],
   "source": [
    "#started at 6:01 and ended at 6:51 so about 50 mins\n",
    "# with 600 training points, 120 test points, and (256,128,64) layers\n",
    "#clf.score = 0.6583333333333333\n",
    "#array([1, 1, 1, 0, 0, 1, 1, 0, 0, 0, 0, 1, 0, 0, 1, 1, 0, 0, 0, 0, 0, 0,\n",
    "      # 0, 1, 0, 0, 1, 0, 0, 1, 1, 1, 1, 2, 1, 2, 1, 2, 1, 1, 2, 1, 1, 1,\n",
    "      # 1, 1, 1, 2, 1, 1, 0, 1, 1, 1, 0, 1, 1, 1, 1, 1, 2, 2, 1, 2, 3, 2,\n",
    "      # 2, 1, 2, 2, 2, 2, 2, 2, 2, 2, 2, 2, 2, 3, 2, 3, 2, 2, 2, 2, 2, 2,\n",
    "      # 2, 2, 3, 1, 3, 2, 1, 1, 3, 3, 3, 0, 2, 1, 3, 3, 0, 1, 0, 1, 1, 0,\n",
    "      # 3, 0, 1, 1, 3, 1, 3, 0, 3, 3])"
   ]
  },
  {
   "cell_type": "code",
   "execution_count": null,
   "id": "3c79f590",
   "metadata": {},
   "outputs": [],
   "source": []
  },
  {
   "cell_type": "code",
   "execution_count": null,
   "id": "0d064ec8",
   "metadata": {},
   "outputs": [],
   "source": []
  },
  {
   "cell_type": "code",
   "execution_count": null,
   "id": "8cbd5a6d",
   "metadata": {},
   "outputs": [],
   "source": []
  },
  {
   "cell_type": "code",
   "execution_count": 92,
   "id": "150d7dd5",
   "metadata": {},
   "outputs": [],
   "source": [
    "iris_data = load_iris()\n",
    "X = pd.DataFrame(iris_data.data, columns=iris_data.feature_names)\n",
    "y = iris_data.target"
   ]
  },
  {
   "cell_type": "code",
   "execution_count": 93,
   "id": "205e89b1",
   "metadata": {},
   "outputs": [],
   "source": [
    "X_train, X_test, y_train, y_test = train_test_split(X,y,random_state=1, test_size=0.2)\n",
    "sc_X = StandardScaler()\n",
    "X_trainscaled=sc_X.fit_transform(X_train)\n",
    "X_testscaled=sc_X.transform(X_test)"
   ]
  },
  {
   "cell_type": "code",
   "execution_count": 96,
   "id": "3191047a",
   "metadata": {},
   "outputs": [
    {
     "name": "stdout",
     "output_type": "stream",
     "text": [
      "0.9666666666666667\n"
     ]
    }
   ],
   "source": [
    "clf = MLPClassifier(hidden_layer_sizes=(256,128,64,32),activation=\"relu\",random_state=1).fit(X_trainscaled, y_train)\n",
    "y_pred=clf.predict(X_testscaled)\n",
    "print(clf.score(X_testscaled, y_test))"
   ]
  },
  {
   "cell_type": "code",
   "execution_count": 19,
   "id": "cea72680",
   "metadata": {},
   "outputs": [
    {
     "name": "stdout",
     "output_type": "stream",
     "text": [
      "0.9666666666666667\n"
     ]
    }
   ],
   "source": [
    "clf = MLPClassifier(hidden_layer_sizes=(256, 128, 64, 32),activation=\"relu\",random_state=1).fit(X_trainscaled, y_train)\n",
    "y_pred=clf.predict(X_testscaled)\n",
    "print(clf.score(X_testscaled, y_test))"
   ]
  },
  {
   "cell_type": "code",
   "execution_count": null,
   "id": "2c6dcfd9",
   "metadata": {},
   "outputs": [],
   "source": []
  }
 ],
 "metadata": {
  "kernelspec": {
   "display_name": "Python 3 (ipykernel)",
   "language": "python",
   "name": "python3"
  },
  "language_info": {
   "codemirror_mode": {
    "name": "ipython",
    "version": 3
   },
   "file_extension": ".py",
   "mimetype": "text/x-python",
   "name": "python",
   "nbconvert_exporter": "python",
   "pygments_lexer": "ipython3",
   "version": "3.9.7"
  }
 },
 "nbformat": 4,
 "nbformat_minor": 5
}
